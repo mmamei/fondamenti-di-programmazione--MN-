{
 "cells": [
  {
   "cell_type": "markdown",
   "id": "c37e26e9",
   "metadata": {},
   "source": [
    "# Reading Python Code\n",
    "\n",
    "<h1 style='background-color:gold;color:white'>Python Basics</h1>"
   ]
  },
  {
   "cell_type": "code",
   "execution_count": 10,
   "id": "1a94ae0d",
   "metadata": {},
   "outputs": [],
   "source": [
    "# Variabili\n",
    "a = 5 # intero\n",
    "b = \"Hello\" # stringa\n",
    "c = 'Hello' # stringa\n",
    "d = 'Hello\\nWorld' # stringa con newline\n",
    "e = 3.14 # float"
   ]
  },
  {
   "cell_type": "code",
   "execution_count": 11,
   "id": "105096a8",
   "metadata": {},
   "outputs": [
    {
     "data": {
      "text/plain": [
       "'\\ncommento su più righe\\n'"
      ]
     },
     "execution_count": 11,
     "metadata": {},
     "output_type": "execute_result"
    }
   ],
   "source": [
    "# Commenti\n",
    "'''\n",
    "commento su più righe\n",
    "'''"
   ]
  },
  {
   "cell_type": "code",
   "execution_count": 32,
   "id": "1308af3a",
   "metadata": {},
   "outputs": [
    {
     "name": "stdout",
     "output_type": "stream",
     "text": [
      "Madrco\n",
      "False False\n",
      "4\n"
     ]
    }
   ],
   "source": [
    "# Input output\n",
    "print(a)\n",
    "# print(z) #errore\n",
    "print(b, end=' ')\n",
    "print(b)\n",
    "b = input(\"Inserisci un valore: \") # bloccante\n",
    "print(b)"
   ]
  },
  {
   "cell_type": "code",
   "execution_count": null,
   "id": "243bc61e",
   "metadata": {},
   "outputs": [
    {
     "name": "stdout",
     "output_type": "stream",
     "text": [
      "5.0\n"
     ]
    }
   ],
   "source": [
    "# Operazioni elementari\n",
    "a = 10 * 2\n",
    "a = a / 5\n",
    "print(a+1)"
   ]
  },
  {
   "cell_type": "code",
   "execution_count": null,
   "id": "98f67e49",
   "metadata": {},
   "outputs": [
    {
     "name": "stdout",
     "output_type": "stream",
     "text": [
      "16\n",
      "1\n"
     ]
    }
   ],
   "source": [
    "# Operazioni elementari\n",
    "a = 2 ** 4 \n",
    "r = 4 % 3\n",
    "print(a)\n",
    "print(r)"
   ]
  },
  {
   "cell_type": "code",
   "execution_count": null,
   "id": "cd55d6e3",
   "metadata": {},
   "outputs": [
    {
     "name": "stdout",
     "output_type": "stream",
     "text": [
      "4\n"
     ]
    }
   ],
   "source": [
    "# Incrementi\n",
    "a = 1\n",
    "a += 1\n",
    "a *= 2\n",
    "print(a)"
   ]
  },
  {
   "cell_type": "code",
   "execution_count": null,
   "id": "7b6c9b89",
   "metadata": {},
   "outputs": [
    {
     "name": "stdout",
     "output_type": "stream",
     "text": [
      "4.0\n",
      "3.141592653589793\n",
      "1.0\n"
     ]
    },
    {
     "data": {
      "text/plain": [
       "<function print>"
      ]
     },
     "execution_count": 9,
     "metadata": {},
     "output_type": "execute_result"
    }
   ],
   "source": [
    "# Operazioni avanzate (moduli)\n",
    "\n",
    "import math\n",
    "print(math.sqrt(16))  # Radice quadrata\n",
    "print(math.pi)         # Pi greco\n",
    "print(math.sin(math.pi/2))  # Seno di 90 gradi\n",
    "\n",
    "import random\n",
    "a = random.randint(1, 10)  # Numero casuale tra 1 e 10\n",
    "print(a)"
   ]
  },
  {
   "cell_type": "code",
   "execution_count": 13,
   "id": "0b319085",
   "metadata": {},
   "outputs": [
    {
     "name": "stdout",
     "output_type": "stream",
     "text": [
      "6\n"
     ]
    }
   ],
   "source": [
    "# Operazioni di casting\n",
    "a = '5'\n",
    "b = int(a)  # da stringa a intero\n",
    "c = float(a)  # da stringa a float\n",
    "print(b+1)"
   ]
  },
  {
   "cell_type": "code",
   "execution_count": 16,
   "id": "fef5dc0a",
   "metadata": {},
   "outputs": [
    {
     "name": "stdout",
     "output_type": "stream",
     "text": [
      "Ciao Marco!\n",
      "Fine\n",
      "Uguale a 10\n"
     ]
    }
   ],
   "source": [
    "# Operazione condizionale\n",
    "\n",
    "a = 'Marco'\n",
    "if a == 'Marco':\n",
    "    print(\"Ciao Marco!\")\n",
    "print('Fine')\n",
    "\n",
    "a = 10\n",
    "if a > 10:\n",
    "    print(\"Maggiore di 10\")\n",
    "elif a < 10:\n",
    "    print(\"Minore di 10\")\n",
    "else:\n",
    "    print(\"Uguale a 10\")\n",
    "        "
   ]
  },
  {
   "cell_type": "code",
   "execution_count": 20,
   "id": "2d2cff90",
   "metadata": {},
   "outputs": [
    {
     "name": "stdout",
     "output_type": "stream",
     "text": [
      "False True False\n",
      "D è True\n",
      "False\n"
     ]
    }
   ],
   "source": [
    "# Operazioni e variabili booleane\n",
    "\n",
    "a = True\n",
    "b = False\n",
    "c = a and b\n",
    "d = a or b\n",
    "e = not a\n",
    "print(c, d, e)\n",
    "if d:\n",
    "    print(\"D è True\")\n",
    "\n",
    "a = 'Marco' != 'Marco'\n",
    "print(a)"
   ]
  },
  {
   "cell_type": "code",
   "execution_count": 21,
   "id": "fecbc0af",
   "metadata": {},
   "outputs": [
    {
     "name": "stdout",
     "output_type": "stream",
     "text": [
      "0\n",
      "1\n",
      "2\n",
      "3\n",
      "4\n",
      "fine\n"
     ]
    }
   ],
   "source": [
    "# Cicli\n",
    "\n",
    "x = 0\n",
    "while x < 5:\n",
    "    print(x)\n",
    "    x += 1\n",
    "print('fine')"
   ]
  },
  {
   "cell_type": "code",
   "execution_count": 24,
   "id": "5c8cc380",
   "metadata": {},
   "outputs": [
    {
     "name": "stdout",
     "output_type": "stream",
     "text": [
      "Accesso consentito\n"
     ]
    }
   ],
   "source": [
    "secret_password= '123'\n",
    "x= ''\n",
    "while x != secret_password:\n",
    "    x = input(\"Inserisci la password: \")\n",
    "print(\"Accesso consentito\")"
   ]
  },
  {
   "cell_type": "code",
   "execution_count": 25,
   "id": "76a96a7d",
   "metadata": {},
   "outputs": [
    {
     "name": "stdout",
     "output_type": "stream",
     "text": [
      "ciao 0\n",
      "ciao 1\n",
      "ciao 2\n",
      "ciao 3\n",
      "ciao 4\n"
     ]
    }
   ],
   "source": [
    "for i in range(5):\n",
    "    print('ciao', i)"
   ]
  },
  {
   "cell_type": "code",
   "execution_count": 26,
   "id": "3a0c960f",
   "metadata": {},
   "outputs": [
    {
     "name": "stdout",
     "output_type": "stream",
     "text": [
      "ciao 10\n",
      "ciao 9\n",
      "ciao 8\n",
      "ciao 7\n",
      "ciao 6\n",
      "ciao 5\n",
      "ciao 4\n",
      "ciao 3\n",
      "ciao 2\n",
      "ciao 1\n",
      "ciao 0\n"
     ]
    }
   ],
   "source": [
    "for i in range(10,-1,-1):\n",
    "    print('ciao', i)"
   ]
  },
  {
   "cell_type": "code",
   "execution_count": 29,
   "id": "8b6db654",
   "metadata": {},
   "outputs": [
    {
     "name": "stdout",
     "output_type": "stream",
     "text": [
      "ciao 0\n",
      "ciao 1\n",
      "ciao 2\n",
      "ciao 4\n"
     ]
    }
   ],
   "source": [
    "for i in range(5):\n",
    "    if i == 3:\n",
    "        continue\n",
    "    print('ciao', i)"
   ]
  },
  {
   "cell_type": "code",
   "execution_count": 31,
   "id": "b556264f",
   "metadata": {},
   "outputs": [
    {
     "name": "stdout",
     "output_type": "stream",
     "text": [
      "ciao 0 0\n",
      "ciao 0 1\n",
      "ciao 0 2\n",
      "ciao 1 0\n",
      "ciao 1 1\n",
      "ciao 1 2\n",
      "ciao 2 0\n",
      "ciao 2 1\n",
      "ciao 2 2\n",
      "ciao 3 0\n",
      "ciao 3 1\n",
      "ciao 3 2\n",
      "ciao 4 0\n",
      "ciao 4 1\n",
      "ciao 4 2\n"
     ]
    }
   ],
   "source": [
    "for i in range(5):\n",
    "    for j in range(5):\n",
    "        if j == 3:\n",
    "            break\n",
    "        print('ciao', i, j)"
   ]
  },
  {
   "cell_type": "markdown",
   "id": "b5dc1cd9",
   "metadata": {},
   "source": [
    "### Esercizi\n",
    "\n",
    "1. Realizzare un programma calcolatrice. Il programma chiede all’utente un numero (primo operando), un operazione (+,-,*,/), un numero (secondo operando). Il programma effettua l’operazione e stampa il risultato. Il programma continua a chiedere operazioni finché l’utente non chiude il programma.\n",
    "\n",
    "2. Realizzare un programma che chiede all’utente un numero n. Il programma legge da input n numeri e ne calcola la somma\n",
    "\n",
    "3. Realizzare il gioco indovina numero\n",
    "\n",
    "4. Trovare i primi 100 numeri primi. Trovate i numeri primi tra 1 e 100\n",
    "\n",
    "5. Dati 2 rettangoli indicati dai punti A,B,C,D come da figura, in cui ogni punto è descritto da 2 coordinate (Ax,Ay), (Bx,By),..., Stampare in output se i rattangoli sono disgiunti, sovrapposti o coincidenti.\n",
    "   \n",
    "<img src='docs/esercizio_rettangoli.png'>\n",
    "\n",
    "6. Realizzare i seguenti disegni con il carattere '*' di dimensione n*n\n",
    "\n",
    "<img src='docs/esercizio_aterischi.png'>\n",
    "\n",
    "\n"
   ]
  },
  {
   "cell_type": "markdown",
   "id": "35fd4254",
   "metadata": {},
   "source": [
    "<h1 style='background-color:gold;color:white'>Strutture Dati</h1>\n",
    "\n",
    "## Liste\n",
    "\n",
    "Sono liste di elementi\n",
    "\n",
    "<img src='docs/liste1.png'>"
   ]
  },
  {
   "cell_type": "code",
   "execution_count": 34,
   "id": "4b40eb15",
   "metadata": {},
   "outputs": [
    {
     "name": "stdout",
     "output_type": "stream",
     "text": [
      "['Marco', 'Matteo', 3, 4]\n",
      "Marco\n",
      "7\n",
      "4\n"
     ]
    }
   ],
   "source": [
    "a = []\n",
    "a = list()\n",
    "a.append(\"Marco\")\n",
    "a.append(\"Matteo\")\n",
    "a.append(3)\n",
    "a.append(4)\n",
    "print(a)\n",
    "print(a[0])\n",
    "x = a[2] + a[3]\n",
    "print(x)\n",
    "print(a[-1])\n",
    "# print(a[6])  # Errore\n",
    "\n",
    "a = [\"Marco\", \"Roberta\", 3]"
   ]
  },
  {
   "cell_type": "code",
   "execution_count": 35,
   "id": "be94c01c",
   "metadata": {},
   "outputs": [
    {
     "name": "stdout",
     "output_type": "stream",
     "text": [
      "Marco\n",
      "Roberta\n",
      "3\n",
      "Marco\n",
      "Roberta\n",
      "3\n"
     ]
    }
   ],
   "source": [
    "for i in range(len(a)):\n",
    "    print(a[i])\n",
    "\n",
    "for x in a:\n",
    "    print(x)"
   ]
  },
  {
   "cell_type": "markdown",
   "id": "8775b23b",
   "metadata": {},
   "source": [
    "### Esercizi\n",
    "\n",
    "1. Leggere una serie di numeri in una lista. Stampare la lista in ordine di inserimento e in ordine inverso\n",
    "\n",
    "2. Leggere una lista di numeri. Calcolare e stampare media e deviazione standard dei valori\n",
    "\n",
    "3. Leggere una lista e dire se contiene numeri duplicati. Stampare quali sono i numeri duplicati e quante volte questi compaiono"
   ]
  },
  {
   "cell_type": "code",
   "execution_count": null,
   "id": "769a3a91",
   "metadata": {},
   "outputs": [],
   "source": [
    "# Punatori o riferimento alle variabili\n",
    "\n",
    "a = 5\n",
    "b = a\n",
    "b += 1\n",
    "# print(a) # cosa stampa ??\n",
    "\n",
    "a = []\n",
    "b = a\n",
    "b.append(1)\n",
    "# print(a)  # cosa stampa ??\n"
   ]
  },
  {
   "cell_type": "markdown",
   "id": "62fea70a",
   "metadata": {},
   "source": [
    "* Le variabili associate a numeri e stringhe mantengono ognuna una copia indipendente del valore a cui sono associate\n",
    "* Le variabili associate a liste ed altri \"oggetti complessi\" mantengono ognuna un riferimento alle stesse celle di memoria in cui sono contenute le informazioni (shallow copy)\n",
    "\n",
    "<img src='docs/liste_puntatori.png'>"
   ]
  },
  {
   "cell_type": "code",
   "execution_count": 38,
   "id": "6cd1434c",
   "metadata": {},
   "outputs": [
    {
     "name": "stdout",
     "output_type": "stream",
     "text": [
      "[1, 2, 3]\n",
      "[2, 2, 3]\n",
      "[1, 5, 2, 3, 4, 5]\n",
      "[1, 2, 5]\n",
      "4\n",
      "1\n",
      "True\n"
     ]
    }
   ],
   "source": [
    "# Deep Copy\n",
    "a = [1, 2, 3]\n",
    "b = []\n",
    "for i in range(len(a)):\n",
    "    b.append(a[i])\n",
    "b[0] = 2\n",
    "print(a)\n",
    "print(b)\n",
    "\n",
    "# Altre operazioni\n",
    "a = [1, 2, 3, 4, 5]\n",
    "a.insert(1, 5)\n",
    "print(a)\n",
    "del a[1]  # elimina sulla base della posizione\n",
    "a.remove(3)  # elimina sulla base del valore\n",
    "x = a.pop(2)  # prendi ed elimina sulla base della posizione\n",
    "# a.remove(7)  # errore\n",
    "print(a)\n",
    "print(x)\n",
    "print(a.index(2))  # trova l'indice di un elemento\n",
    "print(2 in a) # stampa True se 2 è contenuto in a\n",
    "\n"
   ]
  },
  {
   "cell_type": "code",
   "execution_count": 39,
   "id": "450deec4",
   "metadata": {},
   "outputs": [
    {
     "name": "stdout",
     "output_type": "stream",
     "text": [
      "[0, 1, 2, 3, 4, 5, 6, 7, 8, 9]\n",
      "0\n",
      "45\n",
      "[2, 3]\n",
      "[2, 3, 4, 5, 6, 7, 8, 9]\n",
      "[0, 2, 4, 6]\n",
      "[5, 1, 2, 3, 4, 5, 6, 7, 8, 9]\n",
      "[0, 1, 2, 3, 4, 5, 6, 7, 8, 9]\n",
      "2\n"
     ]
    }
   ],
   "source": [
    "# Liste di Numeri\n",
    "a = list(range(10))\n",
    "print(a)\n",
    "print(min(a))\n",
    "print(sum(a))\n",
    "\n",
    "# Operazioni di slicing\n",
    "b = a[2:4]\n",
    "print(b)\n",
    "b = a[2:]\n",
    "print(b)\n",
    "b = a[:7:2]\n",
    "print(b)\n",
    "b = a[:] # deep copy\n",
    "b[0] = 5\n",
    "print(b)\n",
    "print(a)\n",
    "\n",
    "# unboxing\n",
    "x, y = a[2:4]\n",
    "print(x)"
   ]
  },
  {
   "cell_type": "code",
   "execution_count": 40,
   "id": "8da17eb1",
   "metadata": {},
   "outputs": [
    {
     "name": "stdout",
     "output_type": "stream",
     "text": [
      "[9, 8, 7, 6, 5, 4, 3, 2, 1, 0]\n",
      "[0, 1, 2, 3, 4, 5, 6, 7, 8, 9]\n",
      "[0, 1, 2, 3, 4, 5, 6, 7, 8, 9]\n"
     ]
    }
   ],
   "source": [
    "a.reverse()\n",
    "print(a)\n",
    "a.sort()  # change a\n",
    "print(a)\n",
    "a.sort(reverse=True)\n",
    "a2 = sorted(a)  # create a sorted list\n",
    "print(a2)\n"
   ]
  },
  {
   "cell_type": "code",
   "execution_count": 41,
   "id": "4bb02b09",
   "metadata": {},
   "outputs": [
    {
     "name": "stdout",
     "output_type": "stream",
     "text": [
      "[0, 4, 16, 36, 64]\n"
     ]
    }
   ],
   "source": [
    "# List comprehensions\n",
    "# È un metodo per creare una lista di elementi in modo molto coinciso\n",
    "# [ expression for item in list if conditional ]\n",
    "\n",
    "x = [i**2 for i in range(10)]\n",
    "x = [i**2 for i in range(10) if i % 2 ==0]\n",
    "print(x)\n",
    "\n"
   ]
  },
  {
   "cell_type": "markdown",
   "id": "2d0f9f32",
   "metadata": {},
   "source": [
    "### Esercizi\n",
    "\n",
    "1. leggere una lista di numeri (crescente). Leggere un ulteriore numero x. Stampare trovato se x è contenuto nella lista. Stampare non trovato altrimenti. Usare la ricerca dicotomica. **[1,3,4,5,8,9,10]**. Cerco il numero 4 Guardo l’elemento centrale dell’array: 5. 5 è maggiore di 4. Quindi riapplico il meccanismo nella metà inferiore della lista **[1,3,4]**. Accedo all’elemento centrale: 3. 3 è minore di 4. Quindi riapplico il meccanismo nella metà superiore della lista **[4]**\n",
    "\n",
    "2. leggere una lista e ordinare gli elementi con il seguente algoritmo: **[2 3 1]** Trovo l’elemento minimo e scambio l’elemento minimo con il primo (scambio 1 e 2) **[1 3 2]** Ripeto l’operazione saltando il primo elemento (che è già ordinato). Trovo il minimo tra **[3 2]** cioè 2 e scambio **[1 2 3]**"
   ]
  },
  {
   "cell_type": "markdown",
   "id": "e5e1924f",
   "metadata": {},
   "source": [
    "## Set (Insiemi)\n",
    "\n",
    "Un set è una struttura dati come una lista, ma che non ammette duplicati\n"
   ]
  },
  {
   "cell_type": "code",
   "execution_count": 42,
   "id": "4b8b1579",
   "metadata": {},
   "outputs": [
    {
     "name": "stdout",
     "output_type": "stream",
     "text": [
      "{1, 2, 3}\n",
      "{1, 2, 3, 4}\n",
      "{1, 2, 3}\n",
      "{4}\n"
     ]
    }
   ],
   "source": [
    "a = {1,2,3}\n",
    "a.add(2)\n",
    "print(a)\n",
    "\n",
    "# trova elementi senza duplicati\n",
    "x = [1,1,1,1,2,3,1,2,3,4]\n",
    "a = set(x)\n",
    "print(a)\n",
    "\n",
    "# trova gli elementi che hanno duplicati\n",
    "dup = set([y for y in x if x.count(y) > 1])\n",
    "print(dup)\n",
    "\n",
    "#trova elementi che non hanno duplicati\n",
    "ndup = a.difference(dup) #intersezione, unione, ...\n",
    "print(ndup)"
   ]
  },
  {
   "cell_type": "markdown",
   "id": "6c6b96b9",
   "metadata": {},
   "source": [
    "## Tuple\n",
    "\n",
    "Una tuple è una struttura dati come una lista, ma che non può essere modificata\n"
   ]
  },
  {
   "cell_type": "code",
   "execution_count": 44,
   "id": "4b98a5bc",
   "metadata": {},
   "outputs": [
    {
     "name": "stdout",
     "output_type": "stream",
     "text": [
      "tup1[0]:  Marco\n",
      "tup2[1:5]:  (2, 3, 4, 5)\n"
     ]
    }
   ],
   "source": [
    "tup1 = ('Marco', 'Matteo', 21, 69.75) \n",
    "tup2 = (1, 2, 3, 4, 5) \n",
    "tup3 = (1,) # attenzione alla virgola\n",
    "\n",
    "print (\"tup1[0]: \", tup1[0])\n",
    "print (\"tup2[1:5]: \", tup2[1:5])\n",
    "\n",
    "# tup1[0] = 100 # error, non può essere modificata\n"
   ]
  },
  {
   "cell_type": "markdown",
   "id": "db3a902e",
   "metadata": {},
   "source": [
    "## Dizionari\n",
    "\n",
    "* Sono degli insiemi di coppie chiave-valore. \n",
    "* Sono molto comodi per memorizzare/raggruppare \n",
    "    * le proprietà di un'entità\n",
    "    * le caratteristiche di diverse entità\n",
    "* Non ci possono essere chiavi ripetute"
   ]
  },
  {
   "cell_type": "code",
   "execution_count": 45,
   "id": "2601d19d",
   "metadata": {},
   "outputs": [
    {
     "name": "stdout",
     "output_type": "stream",
     "text": [
      "{'nome': 'marco', 'cognome': 'mamei', 'anno': 1977}\n"
     ]
    }
   ],
   "source": [
    "p1 = {}\n",
    "p1[\"nome\"] = \"marco\"\n",
    "p1[\"cognome\"] = \"mamei\"\n",
    "p1[\"anno\"] = 1976\n",
    "\n",
    "p1 = {\n",
    "    \"nome\": \"marco\",\n",
    "    \"cognome\": \"mamei\",\n",
    "    \"anno\": 1976\n",
    "}\n",
    "\n",
    "p1[\"anno\"] = 1977\n",
    "\n",
    "print(p1)"
   ]
  },
  {
   "cell_type": "code",
   "execution_count": 46,
   "id": "626952f7",
   "metadata": {},
   "outputs": [
    {
     "name": "stdout",
     "output_type": "stream",
     "text": [
      "{'marco': 28, 'matteo': 30, 'giulia': 25, 'roberta': 30}\n"
     ]
    }
   ],
   "source": [
    "studente_voto = {\n",
    "    'marco': 28,\n",
    "    'matteo': 30,\n",
    "    'giulia': 25\n",
    "}\n",
    "studente_voto['roberta'] = 30\n",
    "print(studente_voto)\n"
   ]
  },
  {
   "cell_type": "code",
   "execution_count": 47,
   "id": "906aca40",
   "metadata": {},
   "outputs": [
    {
     "name": "stdout",
     "output_type": "stream",
     "text": [
      "marco 28\n",
      "giulia 25\n",
      "roberta 30\n",
      "giulia 25\n",
      "marco 28\n",
      "roberta 30\n",
      "28\n",
      "25\n",
      "30\n",
      "[28, 25, 30]\n"
     ]
    }
   ],
   "source": [
    "\n",
    "\n",
    "if \"matteo\" in studente_voto:\n",
    "    del studente_voto[\"matteo\"]\n",
    "\n",
    "for key, value in studente_voto.items():\n",
    "    print(key+\" \"+str(value))\n",
    "\n",
    "\n",
    "#for key in studente_voto.keys():\n",
    "for key in sorted(studente_voto.keys()):\n",
    "    print(key+\" \"+str(studente_voto[key]))\n",
    "\n",
    "for value in studente_voto.values():\n",
    "    print(value)\n",
    "\n",
    "a = list(studente_voto.values())\n",
    "print(a)"
   ]
  },
  {
   "cell_type": "code",
   "execution_count": 49,
   "id": "257bbea1",
   "metadata": {},
   "outputs": [
    {
     "name": "stdout",
     "output_type": "stream",
     "text": [
      "{3: 1.0986122886681098, 4: 1.3862943611198906, 5: 1.6094379124341003, 6: 1.791759469228055, 7: 1.9459101490553132, 8: 2.0794415416798357, 9: 2.1972245773362196}\n",
      "{'marco': 1, 'matteo': 2, 'roberta': 3}\n",
      "{4: 'c', 5: 'b'}\n"
     ]
    }
   ],
   "source": [
    "# Dictionary Comprehensions\n",
    "# È un metodo per creare una dizionario in modo molto coinciso\n",
    "# { expression for item in list if conditional }\n",
    "\n",
    "x = {k:math.log(k) for k in range(10) if k > 2}\n",
    "print(x)\n",
    "\n",
    "# unire liste in un dizionario\n",
    "a = ['marco','matteo','roberta']\n",
    "b = [1,2,3]\n",
    "x = {a[i]:b[i] for i in range(len(a))}\n",
    "print(x)\n",
    "\n",
    "# inveritre le chiavi e valori (attenzione!)\n",
    "a = {'a':4,'b':5,'c':4}\n",
    "x = {v:k for k,v in a.items()}\n",
    "print(x)\n",
    "\n"
   ]
  },
  {
   "cell_type": "markdown",
   "id": "0f30ff2a",
   "metadata": {},
   "source": [
    "## Strutture Complesse\n",
    "\n",
    "* Gli elementi di una lista possono essere liste e dizionari\n",
    "* I valori di un dizionario possono essere liste e dizionari\n",
    "* Le chiavi di un dizionario devono essere elementi semplici (numeri e stringhe)\n"
   ]
  },
  {
   "cell_type": "code",
   "execution_count": 48,
   "id": "21e81b98",
   "metadata": {},
   "outputs": [
    {
     "name": "stdout",
     "output_type": "stream",
     "text": [
      "[[1, 2, 3], [4, 5, 6], [6, 7, 8]]\n",
      "1\n",
      "[{'nome': 'marco', 'cognome': 'mamei', 'anno': 1976}, {'nome': 'matteo', 'cognome': 'mamei', 'anno': 1980}]\n",
      "{'nome': 'marco', 'cognome': 'mamei', 'anno': 1976, 'voti': [30, 28, 24]}\n",
      "28\n",
      "[{'nome': 'marco', 'cognome': 'mamei', 'anno': 1976, 'voti': [30, 28, 24], 'data': {'giorno': 26, 'mese': 1, 'anno': 1976}}, {'nome': 'matteo', 'cognome': 'mamei', 'anno': 1980}]\n"
     ]
    }
   ],
   "source": [
    "a = [[1, 2, 3],\n",
    "     [4, 5, 6],\n",
    "     [6, 7, 8]]\n",
    "print(a)\n",
    "print(a[0][0])\n",
    "\n",
    "a = []\n",
    "a.append({\"nome\": \"marco\", \"cognome\": \"mamei\", \"anno\": 1976})\n",
    "a.append({\"nome\": \"matteo\", \"cognome\": \"mamei\", \"anno\": 1980})\n",
    "print(a)\n",
    "\n",
    "a[0][\"voti\"] = [30, 28, 24]\n",
    "print(a[0])\n",
    "print(a[0][\"voti\"][1])\n",
    "\n",
    "a[0][\"data\"] = {\"giorno\":26, \"mese\":1, \"anno\":1976}\n",
    "print(a)"
   ]
  },
  {
   "cell_type": "markdown",
   "id": "75d36c6c",
   "metadata": {},
   "source": [
    "### Esercizi\n",
    "\n",
    "* Chiedere all'utente di inserire una matrice N * N (un quadrato di numeri)\n",
    "    * Stampare il quadrato di numeri\n",
    "    * Calcolare la somma di tutti gli elementi\n",
    "    * Trovare la riga di somma massima\n",
    "    * Trovare la colonna di somma massima\n",
    "\n",
    "* Data una lista di matrici\n",
    "x = [\n",
    "    [\n",
    "        [1,2,3],\n",
    "        [4,5,6],\n",
    "        [7,8,9]\n",
    "    ],\n",
    "    [[1,2],[3,4]]\n",
    "]\n",
    "    * Trovare la matrice di somma maggiore\n",
    "    * Calcolare la somma (matriciale) di tutte le matrici che è possibile sommare. La somma delle matrici 1*1, 1*2, 2*2, ….\n",
    "\n",
    "* Realizzare un programma che presenti all’utente il seguente menu:\n",
    "    1. Inserisci Studente\n",
    "    2. Aggiungi voto a Studente \n",
    "    3. Stampa\n",
    "    4. Calcola media voti Studente \n",
    "    5. Esci \n",
    "   \n",
    "   Gli studenti sono rappresentati da un dizionario con il nome e cognome dello studente come chiave e una lista di voti come valore.\n",
    "   \n",
    "   Il menu continua a chiedere operazioni all’utente finché l’utente non esegue l’operazione “5”. \n",
    "     1. L’operazione 1 permette di inserire nome e cognome di uno studente.\n",
    "     2. L'operazione 2 chiede il  nome e il cognome di uno studente e permette di aggiungere un voto.\n",
    "     3. L'operazione 3 permette di stampare tutto\n",
    "     4. L'operazione 4 chiede il  nome e il cognome di uno studente e calcola la sua media\n",
    "\n",
    "    \n",
    "\n",
    "\n",
    "\n"
   ]
  },
  {
   "cell_type": "markdown",
   "id": "3ed9391e",
   "metadata": {},
   "source": [
    "\n",
    "<h1 style='background-color:gold;color:white'>Operazioni su Stringhe e File</h1>\n",
    "\n",
    "Le stringhe permettono di codificare molte informazioni in modo flessibile\n",
    "\n",
    "```\"nome:Marco,cognome:Mamei,età:42,interessi:computer,viaggi\"```\n",
    "\n",
    "```\"marco,18,matteo,21,luca,23\"```\n",
    "\n",
    "Per poterle sfruttare al meglio è importante riuscire a manipolare le stringhe efficacemente.\n",
    "\n",
    "Manipolare le stringhe è la base per manipolare le informazioni in un file di testo\n"
   ]
  }
 ],
 "metadata": {
  "kernelspec": {
   "display_name": "base",
   "language": "python",
   "name": "python3"
  },
  "language_info": {
   "codemirror_mode": {
    "name": "ipython",
    "version": 3
   },
   "file_extension": ".py",
   "mimetype": "text/x-python",
   "name": "python",
   "nbconvert_exporter": "python",
   "pygments_lexer": "ipython3",
   "version": "3.10.14"
  }
 },
 "nbformat": 4,
 "nbformat_minor": 5
}
