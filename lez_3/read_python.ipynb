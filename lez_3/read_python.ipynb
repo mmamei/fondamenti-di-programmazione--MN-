{
 "cells": [
  {
   "cell_type": "markdown",
   "id": "c37e26e9",
   "metadata": {},
   "source": [
    "# Reading Python Code\n",
    "\n",
    "<h1 style='background-color:gold;color:white'>Python Basics</h1>"
   ]
  },
  {
   "cell_type": "code",
   "execution_count": 10,
   "id": "1a94ae0d",
   "metadata": {},
   "outputs": [],
   "source": [
    "# Variabili\n",
    "a = 5 # intero\n",
    "b = \"Hello\" # stringa\n",
    "c = 'Hello' # stringa\n",
    "d = 'Hello\\nWorld' # stringa con newline\n",
    "e = 3.14 # float"
   ]
  },
  {
   "cell_type": "code",
   "execution_count": 11,
   "id": "105096a8",
   "metadata": {},
   "outputs": [
    {
     "data": {
      "text/plain": [
       "'\\ncommento su più righe\\n'"
      ]
     },
     "execution_count": 11,
     "metadata": {},
     "output_type": "execute_result"
    }
   ],
   "source": [
    "# Commenti\n",
    "'''\n",
    "commento su più righe\n",
    "'''"
   ]
  },
  {
   "cell_type": "code",
   "execution_count": 32,
   "id": "1308af3a",
   "metadata": {},
   "outputs": [
    {
     "name": "stdout",
     "output_type": "stream",
     "text": [
      "Madrco\n",
      "False False\n",
      "4\n"
     ]
    }
   ],
   "source": [
    "# Input output\n",
    "print(a)\n",
    "# print(z) #errore\n",
    "print(b, end=' ')\n",
    "print(b)\n",
    "b = input(\"Inserisci un valore: \") # bloccante\n",
    "print(b)"
   ]
  },
  {
   "cell_type": "code",
   "execution_count": null,
   "id": "243bc61e",
   "metadata": {},
   "outputs": [
    {
     "name": "stdout",
     "output_type": "stream",
     "text": [
      "5.0\n"
     ]
    }
   ],
   "source": [
    "# Operazioni elementari\n",
    "a = 10 * 2\n",
    "a = a / 5\n",
    "print(a+1)"
   ]
  },
  {
   "cell_type": "code",
   "execution_count": null,
   "id": "98f67e49",
   "metadata": {},
   "outputs": [
    {
     "name": "stdout",
     "output_type": "stream",
     "text": [
      "16\n",
      "1\n"
     ]
    }
   ],
   "source": [
    "# Operazioni elementari\n",
    "a = 2 ** 4 \n",
    "r = 4 % 3\n",
    "print(a)\n",
    "print(r)"
   ]
  },
  {
   "cell_type": "code",
   "execution_count": null,
   "id": "cd55d6e3",
   "metadata": {},
   "outputs": [
    {
     "name": "stdout",
     "output_type": "stream",
     "text": [
      "4\n"
     ]
    }
   ],
   "source": [
    "# Incrementi\n",
    "a = 1\n",
    "a += 1\n",
    "a *= 2\n",
    "print(a)"
   ]
  },
  {
   "cell_type": "code",
   "execution_count": null,
   "id": "7b6c9b89",
   "metadata": {},
   "outputs": [
    {
     "name": "stdout",
     "output_type": "stream",
     "text": [
      "4.0\n",
      "3.141592653589793\n",
      "1.0\n"
     ]
    },
    {
     "data": {
      "text/plain": [
       "<function print>"
      ]
     },
     "execution_count": 9,
     "metadata": {},
     "output_type": "execute_result"
    }
   ],
   "source": [
    "# Operazioni avanzate (moduli)\n",
    "\n",
    "import math\n",
    "print(math.sqrt(16))  # Radice quadrata\n",
    "print(math.pi)         # Pi greco\n",
    "print(math.sin(math.pi/2))  # Seno di 90 gradi\n",
    "\n",
    "import random\n",
    "a = random.randint(1, 10)  # Numero casuale tra 1 e 10\n",
    "print(a)"
   ]
  },
  {
   "cell_type": "code",
   "execution_count": 13,
   "id": "0b319085",
   "metadata": {},
   "outputs": [
    {
     "name": "stdout",
     "output_type": "stream",
     "text": [
      "6\n"
     ]
    }
   ],
   "source": [
    "# Operazioni di casting\n",
    "a = '5'\n",
    "b = int(a)  # da stringa a intero\n",
    "c = float(a)  # da stringa a float\n",
    "print(b+1)"
   ]
  },
  {
   "cell_type": "code",
   "execution_count": 16,
   "id": "fef5dc0a",
   "metadata": {},
   "outputs": [
    {
     "name": "stdout",
     "output_type": "stream",
     "text": [
      "Ciao Marco!\n",
      "Fine\n",
      "Uguale a 10\n"
     ]
    }
   ],
   "source": [
    "# Operazione condizionale\n",
    "\n",
    "a = 'Marco'\n",
    "if a == 'Marco':\n",
    "    print(\"Ciao Marco!\")\n",
    "print('Fine')\n",
    "\n",
    "a = 10\n",
    "if a > 10:\n",
    "    print(\"Maggiore di 10\")\n",
    "elif a < 10:\n",
    "    print(\"Minore di 10\")\n",
    "else:\n",
    "    print(\"Uguale a 10\")\n",
    "        "
   ]
  },
  {
   "cell_type": "code",
   "execution_count": 20,
   "id": "2d2cff90",
   "metadata": {},
   "outputs": [
    {
     "name": "stdout",
     "output_type": "stream",
     "text": [
      "False True False\n",
      "D è True\n",
      "False\n"
     ]
    }
   ],
   "source": [
    "# Operazioni e variabili booleane\n",
    "\n",
    "a = True\n",
    "b = False\n",
    "c = a and b\n",
    "d = a or b\n",
    "e = not a\n",
    "print(c, d, e)\n",
    "if d:\n",
    "    print(\"D è True\")\n",
    "\n",
    "a = 'Marco' != 'Marco'\n",
    "print(a)"
   ]
  },
  {
   "cell_type": "code",
   "execution_count": 21,
   "id": "fecbc0af",
   "metadata": {},
   "outputs": [
    {
     "name": "stdout",
     "output_type": "stream",
     "text": [
      "0\n",
      "1\n",
      "2\n",
      "3\n",
      "4\n",
      "fine\n"
     ]
    }
   ],
   "source": [
    "# Cicli\n",
    "\n",
    "x = 0\n",
    "while x < 5:\n",
    "    print(x)\n",
    "    x += 1\n",
    "print('fine')"
   ]
  },
  {
   "cell_type": "code",
   "execution_count": 24,
   "id": "5c8cc380",
   "metadata": {},
   "outputs": [
    {
     "name": "stdout",
     "output_type": "stream",
     "text": [
      "Accesso consentito\n"
     ]
    }
   ],
   "source": [
    "secret_password= '123'\n",
    "x= ''\n",
    "while x != secret_password:\n",
    "    x = input(\"Inserisci la password: \")\n",
    "print(\"Accesso consentito\")"
   ]
  },
  {
   "cell_type": "code",
   "execution_count": 25,
   "id": "76a96a7d",
   "metadata": {},
   "outputs": [
    {
     "name": "stdout",
     "output_type": "stream",
     "text": [
      "ciao 0\n",
      "ciao 1\n",
      "ciao 2\n",
      "ciao 3\n",
      "ciao 4\n"
     ]
    }
   ],
   "source": [
    "for i in range(5):\n",
    "    print('ciao', i)"
   ]
  },
  {
   "cell_type": "code",
   "execution_count": 26,
   "id": "3a0c960f",
   "metadata": {},
   "outputs": [
    {
     "name": "stdout",
     "output_type": "stream",
     "text": [
      "ciao 10\n",
      "ciao 9\n",
      "ciao 8\n",
      "ciao 7\n",
      "ciao 6\n",
      "ciao 5\n",
      "ciao 4\n",
      "ciao 3\n",
      "ciao 2\n",
      "ciao 1\n",
      "ciao 0\n"
     ]
    }
   ],
   "source": [
    "for i in range(10,-1,-1):\n",
    "    print('ciao', i)"
   ]
  },
  {
   "cell_type": "code",
   "execution_count": 29,
   "id": "8b6db654",
   "metadata": {},
   "outputs": [
    {
     "name": "stdout",
     "output_type": "stream",
     "text": [
      "ciao 0\n",
      "ciao 1\n",
      "ciao 2\n",
      "ciao 4\n"
     ]
    }
   ],
   "source": [
    "for i in range(5):\n",
    "    if i == 3:\n",
    "        continue\n",
    "    print('ciao', i)"
   ]
  },
  {
   "cell_type": "code",
   "execution_count": 31,
   "id": "b556264f",
   "metadata": {},
   "outputs": [
    {
     "name": "stdout",
     "output_type": "stream",
     "text": [
      "ciao 0 0\n",
      "ciao 0 1\n",
      "ciao 0 2\n",
      "ciao 1 0\n",
      "ciao 1 1\n",
      "ciao 1 2\n",
      "ciao 2 0\n",
      "ciao 2 1\n",
      "ciao 2 2\n",
      "ciao 3 0\n",
      "ciao 3 1\n",
      "ciao 3 2\n",
      "ciao 4 0\n",
      "ciao 4 1\n",
      "ciao 4 2\n"
     ]
    }
   ],
   "source": [
    "for i in range(5):\n",
    "    for j in range(5):\n",
    "        if j == 3:\n",
    "            break\n",
    "        print('ciao', i, j)"
   ]
  },
  {
   "cell_type": "markdown",
   "id": "b5dc1cd9",
   "metadata": {},
   "source": [
    "### Esercizi\n",
    "\n",
    "1. Realizzare un programma calcolatrice. Il programma chiede all’utente un numero (primo operando), un operazione (+,-,*,/), un numero (secondo operando). Il programma effettua l’operazione e stampa il risultato. Il programma continua a chiedere operazioni finché l’utente non chiude il programma.\n",
    "\n",
    "2. Realizzare un programma che chiede all’utente un numero n. Il programma legge da input n numeri e ne calcola la somma\n",
    "\n",
    "3. Realizzare il gioco indovina numero\n",
    "\n",
    "4. Trovare i primi 100 numeri primi. Trovate i numeri primi tra 1 e 100\n",
    "\n",
    "5. Dati 2 rettangoli indicati dai punti A,B,C,D come da figura, in cui ogni punto è descritto da 2 coordinate (Ax,Ay), (Bx,By),..., Stampare in output se i rattangoli sono disgiunti, sovrapposti o coincidenti.\n",
    "   \n",
    "<img src='docs/esercizio_rettangoli.png'>\n",
    "\n",
    "6. Realizzare i seguenti disegni con il carattere '*' di dimensione n*n\n",
    "\n",
    "<img src='docs/esercizio_aterischi.png'>\n",
    "\n",
    "\n"
   ]
  },
  {
   "cell_type": "code",
   "execution_count": 59,
   "id": "5c390fba",
   "metadata": {},
   "outputs": [
    {
     "name": "stdout",
     "output_type": "stream",
     "text": [
      "Errore: Divisione per zero non consentita.\n"
     ]
    }
   ],
   "source": [
    "# Eccezioni\n",
    "\n",
    "a = 5\n",
    "b = 0\n",
    "\n",
    "try:\n",
    "    c = a / b\n",
    "#except ZeroDivisionError:\n",
    "except:\n",
    "    print(\"Errore: Divisione per zero non consentita.\")\n"
   ]
  },
  {
   "cell_type": "markdown",
   "id": "35fd4254",
   "metadata": {},
   "source": [
    "<h1 style='background-color:gold;color:white'>Strutture Dati</h1>\n",
    "\n",
    "## Liste\n",
    "\n",
    "Sono liste di elementi\n",
    "\n",
    "<img src='docs/liste1.png'>"
   ]
  },
  {
   "cell_type": "code",
   "execution_count": 34,
   "id": "4b40eb15",
   "metadata": {},
   "outputs": [
    {
     "name": "stdout",
     "output_type": "stream",
     "text": [
      "['Marco', 'Matteo', 3, 4]\n",
      "Marco\n",
      "7\n",
      "4\n"
     ]
    }
   ],
   "source": [
    "a = []\n",
    "a = list()\n",
    "a.append(\"Marco\")\n",
    "a.append(\"Matteo\")\n",
    "a.append(3)\n",
    "a.append(4)\n",
    "print(a)\n",
    "print(a[0])\n",
    "x = a[2] + a[3]\n",
    "print(x)\n",
    "print(a[-1])\n",
    "# print(a[6])  # Errore\n",
    "\n",
    "a = [\"Marco\", \"Roberta\", 3]"
   ]
  },
  {
   "cell_type": "code",
   "execution_count": 35,
   "id": "be94c01c",
   "metadata": {},
   "outputs": [
    {
     "name": "stdout",
     "output_type": "stream",
     "text": [
      "Marco\n",
      "Roberta\n",
      "3\n",
      "Marco\n",
      "Roberta\n",
      "3\n"
     ]
    }
   ],
   "source": [
    "for i in range(len(a)):\n",
    "    print(a[i])\n",
    "\n",
    "for x in a:\n",
    "    print(x)"
   ]
  },
  {
   "cell_type": "markdown",
   "id": "8775b23b",
   "metadata": {},
   "source": [
    "### Esercizi\n",
    "\n",
    "1. Leggere una serie di numeri in una lista. Stampare la lista in ordine di inserimento e in ordine inverso\n",
    "\n",
    "2. Leggere una lista di numeri. Calcolare e stampare media e deviazione standard dei valori\n",
    "\n",
    "3. Leggere una lista e dire se contiene numeri duplicati. Stampare quali sono i numeri duplicati e quante volte questi compaiono"
   ]
  },
  {
   "cell_type": "code",
   "execution_count": null,
   "id": "769a3a91",
   "metadata": {},
   "outputs": [],
   "source": [
    "# Punatori o riferimento alle variabili\n",
    "\n",
    "a = 5\n",
    "b = a\n",
    "b += 1\n",
    "# print(a) # cosa stampa ??\n",
    "\n",
    "a = []\n",
    "b = a\n",
    "b.append(1)\n",
    "# print(a)  # cosa stampa ??\n"
   ]
  },
  {
   "cell_type": "markdown",
   "id": "62fea70a",
   "metadata": {},
   "source": [
    "* Le variabili associate a numeri e stringhe mantengono ognuna una copia indipendente del valore a cui sono associate\n",
    "* Le variabili associate a liste ed altri \"oggetti complessi\" mantengono ognuna un riferimento alle stesse celle di memoria in cui sono contenute le informazioni (shallow copy)\n",
    "\n",
    "<img src='docs/liste_puntatori.png'>"
   ]
  },
  {
   "cell_type": "code",
   "execution_count": 38,
   "id": "6cd1434c",
   "metadata": {},
   "outputs": [
    {
     "name": "stdout",
     "output_type": "stream",
     "text": [
      "[1, 2, 3]\n",
      "[2, 2, 3]\n",
      "[1, 5, 2, 3, 4, 5]\n",
      "[1, 2, 5]\n",
      "4\n",
      "1\n",
      "True\n"
     ]
    }
   ],
   "source": [
    "# Deep Copy\n",
    "a = [1, 2, 3]\n",
    "b = []\n",
    "for i in range(len(a)):\n",
    "    b.append(a[i])\n",
    "b[0] = 2\n",
    "print(a)\n",
    "print(b)\n",
    "\n",
    "# Altre operazioni\n",
    "a = [1, 2, 3, 4, 5]\n",
    "a.insert(1, 5)\n",
    "print(a)\n",
    "del a[1]  # elimina sulla base della posizione\n",
    "a.remove(3)  # elimina sulla base del valore\n",
    "x = a.pop(2)  # prendi ed elimina sulla base della posizione\n",
    "# a.remove(7)  # errore\n",
    "print(a)\n",
    "print(x)\n",
    "print(a.index(2))  # trova l'indice di un elemento\n",
    "print(2 in a) # stampa True se 2 è contenuto in a\n",
    "\n"
   ]
  },
  {
   "cell_type": "code",
   "execution_count": 39,
   "id": "450deec4",
   "metadata": {},
   "outputs": [
    {
     "name": "stdout",
     "output_type": "stream",
     "text": [
      "[0, 1, 2, 3, 4, 5, 6, 7, 8, 9]\n",
      "0\n",
      "45\n",
      "[2, 3]\n",
      "[2, 3, 4, 5, 6, 7, 8, 9]\n",
      "[0, 2, 4, 6]\n",
      "[5, 1, 2, 3, 4, 5, 6, 7, 8, 9]\n",
      "[0, 1, 2, 3, 4, 5, 6, 7, 8, 9]\n",
      "2\n"
     ]
    }
   ],
   "source": [
    "# Liste di Numeri\n",
    "a = list(range(10))\n",
    "print(a)\n",
    "print(min(a))\n",
    "print(sum(a))\n",
    "\n",
    "# Operazioni di slicing\n",
    "b = a[2:4]\n",
    "print(b)\n",
    "b = a[2:]\n",
    "print(b)\n",
    "b = a[:7:2]\n",
    "print(b)\n",
    "b = a[:] # deep copy\n",
    "b[0] = 5\n",
    "print(b)\n",
    "print(a)\n",
    "\n",
    "# unboxing\n",
    "x, y = a[2:4]\n",
    "print(x)"
   ]
  },
  {
   "cell_type": "code",
   "execution_count": 40,
   "id": "8da17eb1",
   "metadata": {},
   "outputs": [
    {
     "name": "stdout",
     "output_type": "stream",
     "text": [
      "[9, 8, 7, 6, 5, 4, 3, 2, 1, 0]\n",
      "[0, 1, 2, 3, 4, 5, 6, 7, 8, 9]\n",
      "[0, 1, 2, 3, 4, 5, 6, 7, 8, 9]\n"
     ]
    }
   ],
   "source": [
    "a.reverse()\n",
    "print(a)\n",
    "a.sort()  # change a\n",
    "print(a)\n",
    "a.sort(reverse=True)\n",
    "a2 = sorted(a)  # create a sorted list\n",
    "print(a2)\n"
   ]
  },
  {
   "cell_type": "code",
   "execution_count": null,
   "id": "3de64f0c",
   "metadata": {},
   "outputs": [
    {
     "name": "stdout",
     "output_type": "stream",
     "text": [
      "1 4\n",
      "2 5\n",
      "3 6\n",
      "0 1\n",
      "1 2\n",
      "2 3\n"
     ]
    }
   ],
   "source": [
    "# zip ed enumerate\n",
    "\n",
    "a = [1,2,3]\n",
    "b = [4,5,6]\n",
    "for x,y in zip(a, b):\n",
    "    print(x, y)\n",
    "\n",
    "for i,x in enumerate(a):\n",
    "    print(i, x)"
   ]
  },
  {
   "cell_type": "code",
   "execution_count": null,
   "id": "c77fbe49",
   "metadata": {},
   "outputs": [],
   "source": []
  },
  {
   "cell_type": "code",
   "execution_count": 41,
   "id": "4bb02b09",
   "metadata": {},
   "outputs": [
    {
     "name": "stdout",
     "output_type": "stream",
     "text": [
      "[0, 4, 16, 36, 64]\n"
     ]
    }
   ],
   "source": [
    "# List comprehensions\n",
    "# È un metodo per creare una lista di elementi in modo molto coinciso\n",
    "# [ expression for item in list if conditional ]\n",
    "\n",
    "x = [i**2 for i in range(10)]\n",
    "x = [i**2 for i in range(10) if i % 2 ==0]\n",
    "print(x)\n",
    "\n"
   ]
  },
  {
   "cell_type": "markdown",
   "id": "2d0f9f32",
   "metadata": {},
   "source": [
    "### Esercizi\n",
    "\n",
    "1. leggere una lista di numeri (crescente). Leggere un ulteriore numero x. Stampare trovato se x è contenuto nella lista. Stampare non trovato altrimenti. Usare la ricerca dicotomica. **[1,3,4,5,8,9,10]**. Cerco il numero 4 Guardo l’elemento centrale dell’array: 5. 5 è maggiore di 4. Quindi riapplico il meccanismo nella metà inferiore della lista **[1,3,4]**. Accedo all’elemento centrale: 3. 3 è minore di 4. Quindi riapplico il meccanismo nella metà superiore della lista **[4]**\n",
    "\n",
    "2. leggere una lista e ordinare gli elementi con il seguente algoritmo: **[2 3 1]** Trovo l’elemento minimo e scambio l’elemento minimo con il primo (scambio 1 e 2) **[1 3 2]** Ripeto l’operazione saltando il primo elemento (che è già ordinato). Trovo il minimo tra **[3 2]** cioè 2 e scambio **[1 2 3]**"
   ]
  },
  {
   "cell_type": "markdown",
   "id": "e5e1924f",
   "metadata": {},
   "source": [
    "## Set (Insiemi)\n",
    "\n",
    "Un set è una struttura dati come una lista, ma che non ammette duplicati\n"
   ]
  },
  {
   "cell_type": "code",
   "execution_count": 42,
   "id": "4b8b1579",
   "metadata": {},
   "outputs": [
    {
     "name": "stdout",
     "output_type": "stream",
     "text": [
      "{1, 2, 3}\n",
      "{1, 2, 3, 4}\n",
      "{1, 2, 3}\n",
      "{4}\n"
     ]
    }
   ],
   "source": [
    "a = {1,2,3}\n",
    "a.add(2)\n",
    "print(a)\n",
    "\n",
    "# trova elementi senza duplicati\n",
    "x = [1,1,1,1,2,3,1,2,3,4]\n",
    "a = set(x)\n",
    "print(a)\n",
    "\n",
    "# trova gli elementi che hanno duplicati\n",
    "dup = set([y for y in x if x.count(y) > 1])\n",
    "print(dup)\n",
    "\n",
    "#trova elementi che non hanno duplicati\n",
    "ndup = a.difference(dup) #intersezione, unione, ...\n",
    "print(ndup)"
   ]
  },
  {
   "cell_type": "markdown",
   "id": "6c6b96b9",
   "metadata": {},
   "source": [
    "## Tuple\n",
    "\n",
    "Una tuple è una struttura dati come una lista, ma che non può essere modificata\n"
   ]
  },
  {
   "cell_type": "code",
   "execution_count": 44,
   "id": "4b98a5bc",
   "metadata": {},
   "outputs": [
    {
     "name": "stdout",
     "output_type": "stream",
     "text": [
      "tup1[0]:  Marco\n",
      "tup2[1:5]:  (2, 3, 4, 5)\n"
     ]
    }
   ],
   "source": [
    "tup1 = ('Marco', 'Matteo', 21, 69.75) \n",
    "tup2 = (1, 2, 3, 4, 5) \n",
    "tup3 = (1,) # attenzione alla virgola\n",
    "\n",
    "print (\"tup1[0]: \", tup1[0])\n",
    "print (\"tup2[1:5]: \", tup2[1:5])\n",
    "\n",
    "# tup1[0] = 100 # error, non può essere modificata\n"
   ]
  },
  {
   "cell_type": "markdown",
   "id": "db3a902e",
   "metadata": {},
   "source": [
    "## Dizionari\n",
    "\n",
    "* Sono degli insiemi di coppie chiave-valore. \n",
    "* Sono molto comodi per memorizzare/raggruppare \n",
    "    * le proprietà di un'entità\n",
    "    * le caratteristiche di diverse entità\n",
    "* Non ci possono essere chiavi ripetute"
   ]
  },
  {
   "cell_type": "code",
   "execution_count": 45,
   "id": "2601d19d",
   "metadata": {},
   "outputs": [
    {
     "name": "stdout",
     "output_type": "stream",
     "text": [
      "{'nome': 'marco', 'cognome': 'mamei', 'anno': 1977}\n"
     ]
    }
   ],
   "source": [
    "p1 = {}\n",
    "p1[\"nome\"] = \"marco\"\n",
    "p1[\"cognome\"] = \"mamei\"\n",
    "p1[\"anno\"] = 1976\n",
    "\n",
    "p1 = {\n",
    "    \"nome\": \"marco\",\n",
    "    \"cognome\": \"mamei\",\n",
    "    \"anno\": 1976\n",
    "}\n",
    "\n",
    "p1[\"anno\"] = 1977\n",
    "\n",
    "print(p1)"
   ]
  },
  {
   "cell_type": "code",
   "execution_count": 46,
   "id": "626952f7",
   "metadata": {},
   "outputs": [
    {
     "name": "stdout",
     "output_type": "stream",
     "text": [
      "{'marco': 28, 'matteo': 30, 'giulia': 25, 'roberta': 30}\n"
     ]
    }
   ],
   "source": [
    "studente_voto = {\n",
    "    'marco': 28,\n",
    "    'matteo': 30,\n",
    "    'giulia': 25\n",
    "}\n",
    "studente_voto['roberta'] = 30\n",
    "print(studente_voto)\n"
   ]
  },
  {
   "cell_type": "code",
   "execution_count": 47,
   "id": "906aca40",
   "metadata": {},
   "outputs": [
    {
     "name": "stdout",
     "output_type": "stream",
     "text": [
      "marco 28\n",
      "giulia 25\n",
      "roberta 30\n",
      "giulia 25\n",
      "marco 28\n",
      "roberta 30\n",
      "28\n",
      "25\n",
      "30\n",
      "[28, 25, 30]\n"
     ]
    }
   ],
   "source": [
    "\n",
    "\n",
    "if \"matteo\" in studente_voto:\n",
    "    del studente_voto[\"matteo\"]\n",
    "\n",
    "for key, value in studente_voto.items():\n",
    "    print(key+\" \"+str(value))\n",
    "\n",
    "\n",
    "#for key in studente_voto.keys():\n",
    "for key in sorted(studente_voto.keys()):\n",
    "    print(key+\" \"+str(studente_voto[key]))\n",
    "\n",
    "for value in studente_voto.values():\n",
    "    print(value)\n",
    "\n",
    "a = list(studente_voto.values())\n",
    "print(a)"
   ]
  },
  {
   "cell_type": "code",
   "execution_count": 49,
   "id": "257bbea1",
   "metadata": {},
   "outputs": [
    {
     "name": "stdout",
     "output_type": "stream",
     "text": [
      "{3: 1.0986122886681098, 4: 1.3862943611198906, 5: 1.6094379124341003, 6: 1.791759469228055, 7: 1.9459101490553132, 8: 2.0794415416798357, 9: 2.1972245773362196}\n",
      "{'marco': 1, 'matteo': 2, 'roberta': 3}\n",
      "{4: 'c', 5: 'b'}\n"
     ]
    }
   ],
   "source": [
    "# Dictionary Comprehensions\n",
    "# È un metodo per creare una dizionario in modo molto coinciso\n",
    "# { expression for item in list if conditional }\n",
    "\n",
    "x = {k:math.log(k) for k in range(10) if k > 2}\n",
    "print(x)\n",
    "\n",
    "# unire liste in un dizionario\n",
    "a = ['marco','matteo','roberta']\n",
    "b = [1,2,3]\n",
    "x = {a[i]:b[i] for i in range(len(a))}\n",
    "print(x)\n",
    "\n",
    "# inveritre le chiavi e valori (attenzione!)\n",
    "a = {'a':4,'b':5,'c':4}\n",
    "x = {v:k for k,v in a.items()}\n",
    "print(x)\n",
    "\n"
   ]
  },
  {
   "cell_type": "markdown",
   "id": "0f30ff2a",
   "metadata": {},
   "source": [
    "## Strutture Complesse\n",
    "\n",
    "* Gli elementi di una lista possono essere liste e dizionari\n",
    "* I valori di un dizionario possono essere liste e dizionari\n",
    "* Le chiavi di un dizionario devono essere elementi semplici (numeri e stringhe)\n"
   ]
  },
  {
   "cell_type": "code",
   "execution_count": 48,
   "id": "21e81b98",
   "metadata": {},
   "outputs": [
    {
     "name": "stdout",
     "output_type": "stream",
     "text": [
      "[[1, 2, 3], [4, 5, 6], [6, 7, 8]]\n",
      "1\n",
      "[{'nome': 'marco', 'cognome': 'mamei', 'anno': 1976}, {'nome': 'matteo', 'cognome': 'mamei', 'anno': 1980}]\n",
      "{'nome': 'marco', 'cognome': 'mamei', 'anno': 1976, 'voti': [30, 28, 24]}\n",
      "28\n",
      "[{'nome': 'marco', 'cognome': 'mamei', 'anno': 1976, 'voti': [30, 28, 24], 'data': {'giorno': 26, 'mese': 1, 'anno': 1976}}, {'nome': 'matteo', 'cognome': 'mamei', 'anno': 1980}]\n"
     ]
    }
   ],
   "source": [
    "a = [[1, 2, 3],\n",
    "     [4, 5, 6],\n",
    "     [6, 7, 8]]\n",
    "print(a)\n",
    "print(a[0][0])\n",
    "\n",
    "a = []\n",
    "a.append({\"nome\": \"marco\", \"cognome\": \"mamei\", \"anno\": 1976})\n",
    "a.append({\"nome\": \"matteo\", \"cognome\": \"mamei\", \"anno\": 1980})\n",
    "print(a)\n",
    "\n",
    "a[0][\"voti\"] = [30, 28, 24]\n",
    "print(a[0])\n",
    "print(a[0][\"voti\"][1])\n",
    "\n",
    "a[0][\"data\"] = {\"giorno\":26, \"mese\":1, \"anno\":1976}\n",
    "print(a)"
   ]
  },
  {
   "cell_type": "markdown",
   "id": "75d36c6c",
   "metadata": {},
   "source": [
    "### Esercizi\n",
    "\n",
    "* Chiedere all'utente di inserire una matrice N * N (un quadrato di numeri)\n",
    "    * Stampare il quadrato di numeri\n",
    "    * Calcolare la somma di tutti gli elementi\n",
    "    * Trovare la riga di somma massima\n",
    "    * Trovare la colonna di somma massima\n",
    "\n",
    "* Data una lista di matrici\n",
    "x = [\n",
    "    [\n",
    "        [1,2,3],\n",
    "        [4,5,6],\n",
    "        [7,8,9]\n",
    "    ],\n",
    "    [[1,2],[3,4]]\n",
    "]\n",
    "    * Trovare la matrice di somma maggiore\n",
    "    * Calcolare la somma (matriciale) di tutte le matrici che è possibile sommare. La somma delle matrici 1*1, 1*2, 2*2, ….\n",
    "\n",
    "* Realizzare un programma che presenti all’utente il seguente menu:\n",
    "    1. Inserisci Studente\n",
    "    2. Aggiungi voto a Studente \n",
    "    3. Stampa\n",
    "    4. Calcola media voti Studente \n",
    "    5. Esci \n",
    "   \n",
    "   Gli studenti sono rappresentati da un dizionario con il nome e cognome dello studente come chiave e una lista di voti come valore.\n",
    "   \n",
    "   Il menu continua a chiedere operazioni all’utente finché l’utente non esegue l’operazione “5”. \n",
    "     1. L’operazione 1 permette di inserire nome e cognome di uno studente.\n",
    "     2. L'operazione 2 chiede il  nome e il cognome di uno studente e permette di aggiungere un voto.\n",
    "     3. L'operazione 3 permette di stampare tutto\n",
    "     4. L'operazione 4 chiede il  nome e il cognome di uno studente e calcola la sua media\n",
    "\n",
    "    \n",
    "\n",
    "\n",
    "\n"
   ]
  },
  {
   "cell_type": "markdown",
   "id": "3ed9391e",
   "metadata": {},
   "source": [
    "\n",
    "<h1 style='background-color:gold;color:white'>Operazioni su Stringhe e File</h1>\n",
    "\n",
    "Le stringhe permettono di codificare molte informazioni in modo flessibile\n",
    "\n",
    "```\"nome:Marco,cognome:Mamei,età:42,interessi:computer,viaggi\"```\n",
    "\n",
    "```\"marco,18,matteo,21,luca,23\"```\n",
    "\n",
    "Per poterle sfruttare al meglio è importante riuscire a manipolare le stringhe efficacemente.\n",
    "\n",
    "Manipolare le stringhe è la base per manipolare le informazioni in un file di testo\n"
   ]
  },
  {
   "cell_type": "code",
   "execution_count": 51,
   "id": "de3d5d4d",
   "metadata": {},
   "outputs": [
    {
     "name": "stdout",
     "output_type": "stream",
     "text": [
      "Ciao Marco, oggi \n",
      "sono andato a casa presto\n",
      "ciao marco\n",
      "10\n",
      "ciao\n",
      "Aarco Aamei\n",
      "['Marco', 'Mamei', '42']\n",
      "['Ciao Marco, oggi ', 'sono andato a casa presto']\n",
      "M\n",
      "Marco\n",
      "True\n",
      "Marco ha 49 anni\n"
     ]
    }
   ],
   "source": [
    "a = \"Ciao Marco\"\n",
    "big = \"\"\"Ciao Marco, oggi \n",
    "sono andato a casa presto\"\"\"\n",
    "print(big)\n",
    "\n",
    "b = a.lower()  # upper, capitalize, title\n",
    "print(b)\n",
    "print(len(a))\n",
    "\n",
    "print(\"  \\n  ciao  \\n\".strip())  # lstrip, rstrip\n",
    "print(\"Marco Mamei\".replace(\"M\", \"A\"))\n",
    "\n",
    "x = \"Marco,Mamei,42\".split(\",\")\n",
    "print(x)\n",
    "print(big.splitlines())\n",
    "\n",
    "# substrings\n",
    "print(a[5])\n",
    "print(a[5:])\n",
    "\n",
    "# in\n",
    "print(\"Marco\" in a)\n",
    "\n",
    "# creazione di stringhe paramertiche\n",
    "nome = \"Marco\"\n",
    "anno = 49\n",
    "print(f'{nome} ha {anno} anni')\n"
   ]
  },
  {
   "cell_type": "code",
   "execution_count": null,
   "id": "2285be8a",
   "metadata": {},
   "outputs": [
    {
     "name": "stdout",
     "output_type": "stream",
     "text": [
      "Marco,30\n",
      "Matteo,28\n",
      "Marco,23\n",
      "Roberta,29\n",
      "Marco,30\n",
      "Matteo,28\n",
      "Marco,23\n",
      "Roberta,29\n"
     ]
    }
   ],
   "source": [
    "# File\n",
    "\n",
    "with open('data/test1.txt') as file:\n",
    "#with open('C:/Users/marco/Dropbox/Documenti/DIDATTICA/fondamenti di programmazione (MN)/data/test1.txt') as file:\n",
    "    x = file.read()\n",
    "    #x = file.readlines()\n",
    "print(x)\n",
    "\n",
    "with open('data/test1.txt') as file:\n",
    "    for line in file:\n",
    "        print(line.strip())\n",
    "\n",
    "with open('data/output.txt', 'w') as ofile:\n",
    "    ofile.write('Ciao\\n')\n",
    "    ofile.write('Marco\\n')\n",
    "with open('data/output.txt','a') as ofile:\n",
    "    ofile.write('Ciao\\n')"
   ]
  },
  {
   "cell_type": "code",
   "execution_count": 56,
   "id": "c69ca449",
   "metadata": {},
   "outputs": [
    {
     "name": "stdout",
     "output_type": "stream",
     "text": [
      "Marco,30\n",
      "Matteo,28\n",
      "Marco,23\n",
      "Roberta,29\n"
     ]
    }
   ],
   "source": [
    "f = open('data/test1.txt')\n",
    "x = f.read()\n",
    "f.close()\n",
    "print(x)"
   ]
  },
  {
   "cell_type": "markdown",
   "id": "962feb75",
   "metadata": {},
   "source": [
    "### Esercizi\n",
    "\n",
    "* Per ogni persona nel file **data/test1.txt** stampare la media dei suoi voti\n",
    "\n",
    "* Un vecchio tipo di esame:\n",
    "  \n",
    "<img src='docs/esame_old1.png'>\n"
   ]
  },
  {
   "cell_type": "code",
   "execution_count": 57,
   "id": "f312d5d1",
   "metadata": {},
   "outputs": [
    {
     "name": "stdout",
     "output_type": "stream",
     "text": [
      "a.txt\n",
      "b.txt\n"
     ]
    }
   ],
   "source": [
    "# Cartelle e File\n",
    "\n",
    "import os\n",
    "files = os.listdir(\"data/dir1\")\n",
    "for f in files:\n",
    "    if os.path.isfile(\"data/dir1/\"+f):\n",
    "        print(f)\n"
   ]
  },
  {
   "cell_type": "markdown",
   "id": "6b57bea7",
   "metadata": {},
   "source": [
    "### Serializzazione\n",
    "\n",
    "* La **serializzazione** è un processo per salvare una variabile su un file (o per trasmetterlo su una connessione di rete).\n",
    "* La **de-serializzazione** è il processo opposto. Legge un file (o dati provenienti dalla rete) e ricrea la la variabile\n",
    "\n",
    "* In generale potremmo inventare noi un formato con cui slavare delle variabili su un file (serializzazione), poi leggere quel file e ricreare le variabili, ma ci sono librerie che lo fanno già\n",
    "\n",
    "* JSON (JavaScript Object Notation) è uno standard per la memorizzazione delle informazioni (molto usato per le applicazioni Web)\n",
    "* La libreria/modulo json offre una serie di funzionalità per serializzare/deserializzare variabili in json"
   ]
  },
  {
   "cell_type": "code",
   "execution_count": null,
   "id": "0d762786",
   "metadata": {},
   "outputs": [
    {
     "name": "stdout",
     "output_type": "stream",
     "text": [
      "{'nome': 'marco', 'anni': 20}\n"
     ]
    }
   ],
   "source": [
    "import json\n",
    "a = {\"nome\":\"marco\", \"anni\":20}\n",
    "with(open('data/a.json','w')) as ofile:\n",
    "    json.dump(a,ofile)\n",
    "\n"
   ]
  },
  {
   "cell_type": "code",
   "execution_count": null,
   "id": "81fe4b23",
   "metadata": {},
   "outputs": [
    {
     "name": "stdout",
     "output_type": "stream",
     "text": [
      "Errore: File non trovato.\n"
     ]
    }
   ],
   "source": [
    "try:\n",
    "    with(open('data/a.json')) as file:\n",
    "        b = json.load(file)\n",
    "    print(b)\n",
    "except FileNotFoundError:\n",
    "    print(\"Errore: File non trovato.\")\n"
   ]
  },
  {
   "cell_type": "markdown",
   "id": "78b0940c",
   "metadata": {},
   "source": [
    "### Esercizi\n",
    "\n",
    "* Aggiungere una funnzione di salvataggio all'esercizio del menù con gli studenti fatto in precedenza"
   ]
  },
  {
   "cell_type": "markdown",
   "id": "b09bd667",
   "metadata": {},
   "source": [
    "<h1 style='background-color:gold;color:white'>Funzioni</h1>"
   ]
  },
  {
   "cell_type": "code",
   "execution_count": 62,
   "id": "7916a33d",
   "metadata": {},
   "outputs": [
    {
     "name": "stdout",
     "output_type": "stream",
     "text": [
      "17\n",
      "23\n",
      "17\n",
      "17\n",
      "12\n",
      "9\n"
     ]
    }
   ],
   "source": [
    "# Passaggio di Parametri e Visibilità delle Variabili\n",
    "\n",
    "def fun(x,y,z):\n",
    "    print(x*y+z)\n",
    "\n",
    "a = 3\n",
    "b = 4\n",
    "c = 5\n",
    "fun(a,b,c) #  posizionale\n",
    "fun(b,c,a)\n",
    "fun(y=b, z=c, x=a) # chiave valore\n",
    "\n",
    "def fun2(x,y,z=0):\n",
    "    print(x * y + z)\n",
    "fun2(a,b,c)\n",
    "fun2(a,b)\n",
    "\n",
    "def fun3(x):\n",
    "    y = 5\n",
    "    print(x+y)\n",
    "\n",
    "a = 4\n",
    "fun3(4)\n",
    "#print(x) # error\n",
    "#print(y) # error\n"
   ]
  },
  {
   "cell_type": "code",
   "execution_count": 63,
   "id": "fe4080e8",
   "metadata": {},
   "outputs": [
    {
     "name": "stdout",
     "output_type": "stream",
     "text": [
      "4\n",
      "{'fun2': 'ciao'}\n",
      "[1, 2, 3, 4]\n"
     ]
    }
   ],
   "source": [
    "def fun(a):\n",
    "    a += 1\n",
    "x = 4\n",
    "fun(x)\n",
    "print(x)\n",
    "\n",
    "def fun2(a):\n",
    "    a[\"fun2\"] = \"ciao\"\n",
    "x = {}\n",
    "fun2(x)\n",
    "print(x)\n",
    "\n",
    "# diverso è il caso di un assegnamento\n",
    "# il riferimento stesso è passato per copia\n",
    "def fun3(a):\n",
    "    a = a[2:]\n",
    "x = [1,2,3,4]\n",
    "fun3(x)\n",
    "print(x)"
   ]
  },
  {
   "cell_type": "code",
   "execution_count": 65,
   "id": "22fe388e",
   "metadata": {},
   "outputs": [
    {
     "name": "stdout",
     "output_type": "stream",
     "text": [
      "0\n"
     ]
    }
   ],
   "source": [
    "\n",
    "def test():\n",
    "    print(count) # leggo una variabile esterna\n",
    "\n",
    "count = 0\n",
    "test()\n",
    "\n"
   ]
  },
  {
   "cell_type": "code",
   "execution_count": 66,
   "id": "dd497ab4",
   "metadata": {},
   "outputs": [],
   "source": [
    "def test():\n",
    "    count = 5 # count è una nuova varaible\n",
    "\n",
    "count = 0\n",
    "test()\n",
    "\n"
   ]
  },
  {
   "cell_type": "code",
   "execution_count": 67,
   "id": "8e9f7dff",
   "metadata": {},
   "outputs": [
    {
     "ename": "UnboundLocalError",
     "evalue": "local variable 'count' referenced before assignment",
     "output_type": "error",
     "traceback": [
      "\u001b[1;31m---------------------------------------------------------------------------\u001b[0m",
      "\u001b[1;31mUnboundLocalError\u001b[0m                         Traceback (most recent call last)",
      "Cell \u001b[1;32mIn[67], line 5\u001b[0m\n\u001b[0;32m      2\u001b[0m     count \u001b[38;5;241m+\u001b[39m\u001b[38;5;241m=\u001b[39m \u001b[38;5;241m1\u001b[39m \u001b[38;5;66;03m# errore non posso scrivere una var esterna\u001b[39;00m\n\u001b[0;32m      4\u001b[0m count \u001b[38;5;241m=\u001b[39m \u001b[38;5;241m0\u001b[39m\n\u001b[1;32m----> 5\u001b[0m \u001b[43mtest\u001b[49m\u001b[43m(\u001b[49m\u001b[43m)\u001b[49m\n",
      "Cell \u001b[1;32mIn[67], line 2\u001b[0m, in \u001b[0;36mtest\u001b[1;34m()\u001b[0m\n\u001b[0;32m      1\u001b[0m \u001b[38;5;28;01mdef\u001b[39;00m \u001b[38;5;21mtest\u001b[39m():\n\u001b[1;32m----> 2\u001b[0m     count \u001b[38;5;241m+\u001b[39m\u001b[38;5;241m=\u001b[39m \u001b[38;5;241m1\u001b[39m\n",
      "\u001b[1;31mUnboundLocalError\u001b[0m: local variable 'count' referenced before assignment"
     ]
    }
   ],
   "source": [
    "def test():\n",
    "    count += 1 # errore non posso scrivere una var esterna\n",
    "\n",
    "count = 0\n",
    "test()\n",
    "\n"
   ]
  },
  {
   "cell_type": "code",
   "execution_count": 68,
   "id": "f84e0b78",
   "metadata": {},
   "outputs": [
    {
     "name": "stdout",
     "output_type": "stream",
     "text": [
      "1\n"
     ]
    }
   ],
   "source": [
    "def test():\n",
    "    global count # dichiaro di accedere ad una variabile esterna\n",
    "    count += 1\n",
    "\n",
    "count = 0\n",
    "test()\n",
    "print(count)\n"
   ]
  },
  {
   "cell_type": "code",
   "execution_count": null,
   "id": "fd34ba88",
   "metadata": {},
   "outputs": [
    {
     "name": "stdout",
     "output_type": "stream",
     "text": [
      "7\n",
      "12\n"
     ]
    }
   ],
   "source": [
    "# Valore di ritorno tupla e unboxing\n",
    "def fun3(a,b):\n",
    "    return (a+b, a*b) # tupla\n",
    "x,y = fun3(3,4)\n",
    "print(x)\n",
    "print(y)"
   ]
  },
  {
   "cell_type": "code",
   "execution_count": null,
   "id": "ca4fd755",
   "metadata": {},
   "outputs": [
    {
     "name": "stdout",
     "output_type": "stream",
     "text": [
      "[7, 12]\n"
     ]
    }
   ],
   "source": [
    "# Valore di riorno tra i paramenti di input\n",
    "def fun4(a,b,x):\n",
    "    x.append(a+b)\n",
    "    x.append(a*b)\n",
    "c = []\n",
    "fun4(3,4,c)\n",
    "print(c)"
   ]
  },
  {
   "cell_type": "markdown",
   "id": "97fcc003",
   "metadata": {},
   "source": [
    "### Esercizi\n",
    "\n",
    "* Funzioni ricorsive, il calcolo del fattoriale\n",
    "\n",
    "* Funzioni ricorsive esplorazione di un file system\n"
   ]
  },
  {
   "cell_type": "markdown",
   "id": "b45194ec",
   "metadata": {},
   "source": [
    "## Moduli\n",
    "\n",
    "Per mantenere ordinato e compatto il programma principale, possiamo memorizzare le funzioni e variabili in un file separato (modulo) ed importare tale modulo (le funzioni che contiene) nel programma principale\n"
   ]
  },
  {
   "cell_type": "code",
   "execution_count": null,
   "id": "e77415eb",
   "metadata": {},
   "outputs": [
    {
     "name": "stdout",
     "output_type": "stream",
     "text": [
      "Hello from f()\n"
     ]
    },
    {
     "data": {
      "text/plain": [
       "42"
      ]
     },
     "execution_count": 1,
     "metadata": {},
     "output_type": "execute_result"
    }
   ],
   "source": [
    "import math\n",
    "import math as m\n",
    "from math import sqrt, pi\n",
    "from lez_3.read_python_module import f\n",
    "\n",
    "f()\n"
   ]
  },
  {
   "cell_type": "markdown",
   "id": "45bcab07",
   "metadata": {},
   "source": [
    "## Costrutti Avanzati\n",
    "\n",
    "### Lambda\n",
    "\n",
    "Le lambda sono una tecnica per creare delle funzioni senza dover usare la sintassi def"
   ]
  },
  {
   "cell_type": "code",
   "execution_count": null,
   "id": "27eea84e",
   "metadata": {},
   "outputs": [],
   "source": [
    "add = lambda x,y: x+y\n",
    "print(add(3,4))\n",
    "print((lambda x,y: x+y)(3,4))\n",
    "\n",
    "# Ternary Operators\n",
    "pos_neg = lambda x: \"positivo\" if x > 0 else \"negativo\"\n",
    "print(pos_neg(-1))\n",
    "\n",
    "def multiplier(k):\n",
    "    return lambda x:k*x\n",
    "\n",
    "double = multiplier(2)\n",
    "triple = multiplier(3)\n",
    "print(double(4))\n",
    "print(triple(3))\n",
    "\n",
    "# Non tutte le istruzioni possono andare dentro una lambda. Ad esempio non posso fare assegnamenti\n"
   ]
  },
  {
   "cell_type": "code",
   "execution_count": 72,
   "id": "ad180caf",
   "metadata": {},
   "outputs": [
    {
     "name": "stdout",
     "output_type": "stream",
     "text": [
      "[{'nome': 'roberta', 'altezza': 180, 'peso': 59}, {'nome': 'marco', 'altezza': 190, 'peso': 90}, {'nome': 'mattia', 'altezza': 120, 'peso': 99}]\n",
      "[(4, 0), (0, 0), (2, 1), (1, 2), (3, 4)]\n"
     ]
    }
   ],
   "source": [
    "x = [{'nome':'marco','altezza':190,'peso':90},\n",
    "     {'nome':'mattia','altezza':120,'peso':99},\n",
    "     {'nome':'roberta','altezza':180,'peso':59}]\n",
    "\n",
    "\n",
    "y = sorted(x,key=lambda k: k['altezza'])\n",
    "y = sorted(x,key=lambda k: k['peso'])\n",
    "y = sorted(x,key=lambda k: k['peso'] / k['altezza']**2)\n",
    "print(y)\n",
    "\n",
    "\n",
    "x = {1: 2,\n",
    "     3: 4,\n",
    "     4: 0,\n",
    "     2: 1,\n",
    "     0: 0}\n",
    "y = sorted(x.items(), key=lambda kv: kv[1])\n",
    "print(y)"
   ]
  },
  {
   "cell_type": "markdown",
   "id": "8b503d1e",
   "metadata": {},
   "source": [
    "###  Map, Reduce, Filter\n",
    "* Sono funzioni per applicare funzioni a una lista \n",
    "* Utilizzo simile alle list comprehension"
   ]
  },
  {
   "cell_type": "code",
   "execution_count": 73,
   "id": "946661b6",
   "metadata": {},
   "outputs": [
    {
     "name": "stdout",
     "output_type": "stream",
     "text": [
      "[2, 3, 4]\n",
      "6\n",
      "[0, 1]\n"
     ]
    }
   ],
   "source": [
    "def f(x):\n",
    "    return x+1\n",
    "\n",
    "x = list(map(f,[1,2,3]))\n",
    "print(x)\n",
    "\n",
    "\n",
    "def f(x,y):\n",
    "    return x+y\n",
    "\n",
    "import functools\n",
    "x = functools.reduce(f,[1,2,3])\n",
    "print(x)\n",
    "\n",
    "\n",
    "def f(x):\n",
    "    return x >= 0\n",
    "\n",
    "x = list(filter(f,[-1,0,1]))\n",
    "print(x)"
   ]
  },
  {
   "cell_type": "markdown",
   "id": "9fcbf548",
   "metadata": {},
   "source": [
    "### Variabili Funzioni e Decoratori\n",
    "\n",
    "In Python le funzione sono elementi di prima-classe (first class entities), cioè possono essere usate come variabili qualsiasi\n"
   ]
  },
  {
   "cell_type": "code",
   "execution_count": 74,
   "id": "94dc8953",
   "metadata": {},
   "outputs": [
    {
     "name": "stdout",
     "output_type": "stream",
     "text": [
      "Operazioni da fare prima\n",
      "ciao\n",
      "Operazioni da fare dopo\n",
      "Operazioni da fare prima\n",
      "ciao\n",
      "Operazioni da fare dopo\n"
     ]
    }
   ],
   "source": [
    "def esegui(f):\n",
    "    print('Operazioni da fare prima')\n",
    "    f()\n",
    "    print('Operazioni da fare dopo')\n",
    "\n",
    "def stampa():\n",
    "    print('ciao')\n",
    "\n",
    "x = stampa\n",
    "esegui(x)\n",
    "\n",
    "def esegui(f):\n",
    "    def prima():\n",
    "        print('Operazioni da fare prima')\n",
    "    def dopo():\n",
    "        print('Operazioni da fare dopo')\n",
    "    prima()\n",
    "    f()\n",
    "    dopo()\n",
    "\n",
    "esegui(x)\n"
   ]
  },
  {
   "cell_type": "code",
   "execution_count": 75,
   "id": "991b2cd8",
   "metadata": {},
   "outputs": [
    {
     "name": "stdout",
     "output_type": "stream",
     "text": [
      "Oprazione da fare prima\n",
      "ciao\n",
      "Oprazione da fare prima\n",
      "Marco\n"
     ]
    }
   ],
   "source": [
    "def wrap(f):\n",
    "    def newf():\n",
    "        print(\"Oprazione da fare prima\")\n",
    "        f()\n",
    "    return newf\n",
    "\n",
    "new_x = wrap(x)\n",
    "new_x()\n",
    "\n",
    "def wrap(f):\n",
    "    def newf(*args):\n",
    "        print(\"Oprazione da fare prima\")\n",
    "        # es., authorization, logging\n",
    "        f(*args)\n",
    "    return newf\n",
    "\n",
    "def stampa(x):\n",
    "    print(x)\n",
    "\n",
    "stampa = wrap(stampa)\n",
    "stampa('Marco')"
   ]
  },
  {
   "cell_type": "code",
   "execution_count": 79,
   "id": "8d5dc4cf",
   "metadata": {},
   "outputs": [
    {
     "name": "stdout",
     "output_type": "stream",
     "text": [
      "simeple print\n"
     ]
    }
   ],
   "source": [
    "def login_required(f):\n",
    "    def decf():\n",
    "        pw = input('inserisci password ')\n",
    "        if pw == 'marco':\n",
    "            f()\n",
    "    return decf\n",
    "\n",
    "@login_required\n",
    "def simple_print():\n",
    "    print('simeple print')\n",
    "\n",
    "if __name__ == '__main__':\n",
    "    simple_print()"
   ]
  }
 ],
 "metadata": {
  "kernelspec": {
   "display_name": "base",
   "language": "python",
   "name": "python3"
  },
  "language_info": {
   "codemirror_mode": {
    "name": "ipython",
    "version": 3
   },
   "file_extension": ".py",
   "mimetype": "text/x-python",
   "name": "python",
   "nbconvert_exporter": "python",
   "pygments_lexer": "ipython3",
   "version": "3.10.14"
  }
 },
 "nbformat": 4,
 "nbformat_minor": 5
}
